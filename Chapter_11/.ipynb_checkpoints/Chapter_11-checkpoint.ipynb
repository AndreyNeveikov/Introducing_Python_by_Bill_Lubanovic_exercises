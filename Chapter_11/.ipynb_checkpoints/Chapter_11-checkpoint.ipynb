{
 "cells": [
  {
   "cell_type": "code",
   "execution_count": 1,
   "id": "608030c4",
   "metadata": {},
   "outputs": [
    {
     "name": "stdout",
     "output_type": "stream",
     "text": [
      "Open 9-5 daily\n"
     ]
    }
   ],
   "source": [
    "#1\n",
    "import zoo\n",
    "\n",
    "\n",
    "print(zoo.hours())"
   ]
  },
  {
   "cell_type": "code",
   "execution_count": 2,
   "id": "bf44360a",
   "metadata": {},
   "outputs": [
    {
     "name": "stdout",
     "output_type": "stream",
     "text": [
      "Open 9-5 daily\n"
     ]
    }
   ],
   "source": [
    "#2\n",
    "import zoo as menagerie\n",
    "\n",
    "\n",
    "print(menagerie.hours())"
   ]
  },
  {
   "cell_type": "code",
   "execution_count": 5,
   "id": "69889615",
   "metadata": {
    "scrolled": true
   },
   "outputs": [
    {
     "name": "stdout",
     "output_type": "stream",
     "text": [
      "Open 9-5 daily\n"
     ]
    }
   ],
   "source": [
    "#3\n",
    "from zoo import hours\n",
    "\n",
    "\n",
    "print(hours())"
   ]
  },
  {
   "cell_type": "code",
   "execution_count": 6,
   "id": "bc715507",
   "metadata": {},
   "outputs": [
    {
     "name": "stdout",
     "output_type": "stream",
     "text": [
      "Open 9-5 daily\n"
     ]
    }
   ],
   "source": [
    "#4\n",
    "from zoo import hours as info\n",
    "\n",
    "\n",
    "print(info())"
   ]
  },
  {
   "cell_type": "code",
   "execution_count": 7,
   "id": "c0570297",
   "metadata": {},
   "outputs": [
    {
     "data": {
      "text/plain": [
       "{'a': 1, 'b': 2, 'c': 3}"
      ]
     },
     "execution_count": 7,
     "metadata": {},
     "output_type": "execute_result"
    }
   ],
   "source": [
    "#5\n",
    "plain = {\n",
    "    'a': 1,\n",
    "    'b': 2,\n",
    "    'c': 3\n",
    "}\n",
    "\n",
    "plain"
   ]
  },
  {
   "cell_type": "code",
   "execution_count": 9,
   "id": "2d9fb8aa",
   "metadata": {},
   "outputs": [
    {
     "name": "stdout",
     "output_type": "stream",
     "text": [
      "a\n",
      "b\n",
      "c\n"
     ]
    }
   ],
   "source": [
    "#6\n",
    "from collections import OrderedDict\n",
    "\n",
    "\n",
    "fancy = OrderedDict(plain)\n",
    "\n",
    "for keys in plain:\n",
    "    print(keys)"
   ]
  },
  {
   "cell_type": "code",
   "execution_count": 10,
   "id": "28dd626b",
   "metadata": {},
   "outputs": [
    {
     "data": {
      "text/plain": [
       "'something for a'"
      ]
     },
     "execution_count": 10,
     "metadata": {},
     "output_type": "execute_result"
    }
   ],
   "source": [
    "#7\n",
    "from collections import defaultdict\n",
    "\n",
    "\n",
    "dict_of_lists = defaultdict(list)\n",
    "dict_of_lists['a'] = 'something for a'\n",
    "\n",
    "dict_of_lists['a']\n"
   ]
  },
  {
   "cell_type": "code",
   "execution_count": null,
   "id": "5a26c1ca",
   "metadata": {},
   "outputs": [],
   "source": []
  }
 ],
 "metadata": {
  "kernelspec": {
   "display_name": "Python 3 (ipykernel)",
   "language": "python",
   "name": "python3"
  },
  "language_info": {
   "codemirror_mode": {
    "name": "ipython",
    "version": 3
   },
   "file_extension": ".py",
   "mimetype": "text/x-python",
   "name": "python",
   "nbconvert_exporter": "python",
   "pygments_lexer": "ipython3",
   "version": "3.9.7"
  }
 },
 "nbformat": 4,
 "nbformat_minor": 5
}
