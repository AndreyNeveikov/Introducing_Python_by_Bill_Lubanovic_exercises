{
 "cells": [
  {
   "cell_type": "code",
   "execution_count": 5,
   "id": "03d5968d",
   "metadata": {},
   "outputs": [
    {
     "name": "stdout",
     "output_type": "stream",
     "text": [
      "['Harry', 'Ron', 'Hermione']\n"
     ]
    }
   ],
   "source": [
    "def good():\n",
    "    return ['Harry', 'Ron', 'Hermione']\n",
    "\n",
    "\n",
    "print(good())\n"
   ]
  },
  {
   "cell_type": "code",
   "execution_count": 38,
   "id": "9ef9a66e",
   "metadata": {},
   "outputs": [
    {
     "name": "stdout",
     "output_type": "stream",
     "text": [
      "The third odd number is: 3\n"
     ]
    }
   ],
   "source": [
    "def get_odds():\n",
    "    for number in range(10):\n",
    "        if number % 2 != 0:\n",
    "            yield number\n",
    "\n",
    "\n",
    "counter = 1\n",
    "for odd in get_odds():\n",
    "    counter += 1\n",
    "    if counter == 3:\n",
    "        print('The third odd number is:', counter)\n",
    "        break\n"
   ]
  },
  {
   "cell_type": "code",
   "execution_count": 47,
   "id": "d257b402",
   "metadata": {},
   "outputs": [
    {
     "name": "stdout",
     "output_type": "stream",
     "text": [
      "start\n",
      "Hello\n",
      "end\n"
     ]
    }
   ],
   "source": [
    "def test(func):\n",
    "    def prints_start_and_end():\n",
    "        print('start')\n",
    "        func()\n",
    "        print('end')\n",
    "        return\n",
    "    return prints_start_and_end\n",
    "\n",
    "@test\n",
    "def say_hello():\n",
    "    print('Hello')\n",
    "    \n",
    "\n",
    "say_hello()\n",
    "#test_hello = test(say_hello)\n",
    "#test_hello()\n",
    "\n"
   ]
  },
  {
   "cell_type": "code",
   "execution_count": 53,
   "id": "3f94d162",
   "metadata": {},
   "outputs": [
    {
     "ename": "OopsException",
     "evalue": "Caught an oops",
     "output_type": "error",
     "traceback": [
      "\u001b[1;31m---------------------------------------------------------------------------\u001b[0m",
      "\u001b[1;31mOopsException\u001b[0m                             Traceback (most recent call last)",
      "Input \u001b[1;32mIn [53]\u001b[0m, in \u001b[0;36m<module>\u001b[1;34m\u001b[0m\n\u001b[0;32m      2\u001b[0m     \u001b[38;5;28;01mpass\u001b[39;00m\n\u001b[0;32m      4\u001b[0m \u001b[38;5;28;01mif\u001b[39;00m \u001b[38;5;241m1\u001b[39m \u001b[38;5;241m==\u001b[39m \u001b[38;5;241m1\u001b[39m:\n\u001b[1;32m----> 5\u001b[0m     \u001b[38;5;28;01mraise\u001b[39;00m OopsException(\u001b[38;5;124m'\u001b[39m\u001b[38;5;124mCaught an oops\u001b[39m\u001b[38;5;124m'\u001b[39m)\n",
      "\u001b[1;31mOopsException\u001b[0m: Caught an oops"
     ]
    }
   ],
   "source": [
    "class OopsException(Exception):\n",
    "    pass\n",
    "\n",
    "if 1 == 1:\n",
    "    raise OopsException('Caught an oops')"
   ]
  },
  {
   "cell_type": "code",
   "execution_count": 48,
   "id": "c07e4cbc",
   "metadata": {},
   "outputs": [
    {
     "name": "stdout",
     "output_type": "stream",
     "text": [
      "1\n",
      "2\n",
      "3\n",
      "4\n"
     ]
    }
   ],
   "source": [
    "def my_range(first=0, last=10, step=1):\n",
    "    number = first\n",
    "    while number < last:\n",
    "        yield number\n",
    "        number += step\n",
    "\n",
    "\n",
    "ranger = my_range(1, 5)\n",
    "for x in ranger:\n",
    "    print(x)"
   ]
  }
 ],
 "metadata": {
  "kernelspec": {
   "display_name": "Python 3 (ipykernel)",
   "language": "python",
   "name": "python3"
  },
  "language_info": {
   "codemirror_mode": {
    "name": "ipython",
    "version": 3
   },
   "file_extension": ".py",
   "mimetype": "text/x-python",
   "name": "python",
   "nbconvert_exporter": "python",
   "pygments_lexer": "ipython3",
   "version": "3.9.7"
  }
 },
 "nbformat": 4,
 "nbformat_minor": 5
}
