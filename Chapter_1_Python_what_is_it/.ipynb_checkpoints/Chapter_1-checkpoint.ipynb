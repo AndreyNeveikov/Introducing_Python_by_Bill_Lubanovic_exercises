{
 "cells": [
  {
   "cell_type": "code",
   "execution_count": 1,
   "id": "b2325c04",
   "metadata": {},
   "outputs": [],
   "source": [
    "#1\n",
    "# Python installed"
   ]
  },
  {
   "cell_type": "code",
   "execution_count": 2,
   "id": "b62b3886",
   "metadata": {},
   "outputs": [],
   "source": [
    "#2\n",
    "# Interpreter started"
   ]
  },
  {
   "cell_type": "code",
   "execution_count": 3,
   "id": "c091d05a",
   "metadata": {},
   "outputs": [
    {
     "data": {
      "text/plain": [
       "72"
      ]
     },
     "execution_count": 3,
     "metadata": {},
     "output_type": "execute_result"
    }
   ],
   "source": [
    "#3\n",
    "8 * 9"
   ]
  },
  {
   "cell_type": "code",
   "execution_count": 4,
   "id": "97da6b37",
   "metadata": {},
   "outputs": [
    {
     "data": {
      "text/plain": [
       "47"
      ]
     },
     "execution_count": 4,
     "metadata": {},
     "output_type": "execute_result"
    }
   ],
   "source": [
    "#4\n",
    "47"
   ]
  },
  {
   "cell_type": "code",
   "execution_count": 5,
   "id": "462bc08c",
   "metadata": {},
   "outputs": [
    {
     "name": "stdout",
     "output_type": "stream",
     "text": [
      "47\n"
     ]
    }
   ],
   "source": [
    "#5\n",
    "print(47)"
   ]
  },
  {
   "cell_type": "code",
   "execution_count": null,
   "id": "3caedd9a",
   "metadata": {},
   "outputs": [],
   "source": []
  }
 ],
 "metadata": {
  "kernelspec": {
   "display_name": "Python 3 (ipykernel)",
   "language": "python",
   "name": "python3"
  },
  "language_info": {
   "codemirror_mode": {
    "name": "ipython",
    "version": 3
   },
   "file_extension": ".py",
   "mimetype": "text/x-python",
   "name": "python",
   "nbconvert_exporter": "python",
   "pygments_lexer": "ipython3",
   "version": "3.9.7"
  }
 },
 "nbformat": 4,
 "nbformat_minor": 5
}
