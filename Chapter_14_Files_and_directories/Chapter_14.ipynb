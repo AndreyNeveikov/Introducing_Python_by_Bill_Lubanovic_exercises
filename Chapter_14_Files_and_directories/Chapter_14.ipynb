{
 "cells": [
  {
   "cell_type": "code",
   "execution_count": 2,
   "id": "78bcacea",
   "metadata": {},
   "outputs": [
    {
     "name": "stdout",
     "output_type": "stream",
     "text": [
      "['.ipynb_checkpoints', 'Chapter_14.ipynb', 'Chapter_14.py']\n"
     ]
    }
   ],
   "source": [
    "#1\n",
    "import os\n",
    "\n",
    "print(os.listdir('.'))"
   ]
  },
  {
   "cell_type": "code",
   "execution_count": 3,
   "id": "ce8458cd",
   "metadata": {},
   "outputs": [
    {
     "name": "stdout",
     "output_type": "stream",
     "text": [
      "['.git', '.gitattributes', 'Chapter_10_Objects_and_classes', 'Chapter_11_Modules_packages_and_programs', 'Chapter_12_Processing_data', 'Chapter_13_Calendars_and_clocks', 'Chapter_14_Files_and_directories', 'Chapter_15_Data_over_time-Processes_and_competitiveness', 'Chapter_16_Data_in_a_box-Reliable_vaults', 'Chapter_17_Data_in_space-Networks', 'Chapter_18_Unraveling_the_World_Wide_Web', 'Chapter_19_Be_a_pythonist', 'Chapter_1_Python_what_is_it', 'Chapter_20_Py-Art', 'Chapter_21_At_work', 'Chapter_22_Python_in_science', 'Chapter_2_Data_types_values_variables_and_names', 'Chapter_3_Numbers', 'Chapter_4_Selecting_with_an_if_statement', 'Chapter_5_Text_strings', 'Chapter_6_Creating_loops_with_the_while_and_for_keywords', 'Chapter_7_Tuples_and_lists', 'Chapter_8_Dictionaries_and_sets', 'Chapter_9_Functions']\n"
     ]
    }
   ],
   "source": [
    "#2\n",
    "print(os.listdir('..'))"
   ]
  },
  {
   "cell_type": "code",
   "execution_count": 5,
   "id": "7b669ea2",
   "metadata": {},
   "outputs": [],
   "source": [
    "#3\n",
    "test1 = \"This is the emergency text system\"\n",
    "\n",
    "with open('test.txt', 'wt') as test_file:\n",
    "    test_file.write(test1)"
   ]
  },
  {
   "cell_type": "code",
   "execution_count": 6,
   "id": "67927371",
   "metadata": {},
   "outputs": [
    {
     "name": "stdout",
     "output_type": "stream",
     "text": [
      "True\n"
     ]
    }
   ],
   "source": [
    "#4\n",
    "with open('test.txt', 'rt') as test_file:\n",
    "    test2 = test_file.read()\n",
    "    \n",
    "print(test1 == test2)"
   ]
  }
 ],
 "metadata": {
  "kernelspec": {
   "display_name": "Python 3 (ipykernel)",
   "language": "python",
   "name": "python3"
  },
  "language_info": {
   "codemirror_mode": {
    "name": "ipython",
    "version": 3
   },
   "file_extension": ".py",
   "mimetype": "text/x-python",
   "name": "python",
   "nbconvert_exporter": "python",
   "pygments_lexer": "ipython3",
   "version": "3.9.7"
  }
 },
 "nbformat": 4,
 "nbformat_minor": 5
}
