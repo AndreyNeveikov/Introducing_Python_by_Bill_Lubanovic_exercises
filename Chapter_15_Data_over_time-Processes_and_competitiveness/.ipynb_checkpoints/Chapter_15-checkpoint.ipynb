{
 "cells": [
  {
   "cell_type": "code",
   "execution_count": 6,
   "id": "760110a4",
   "metadata": {},
   "outputs": [
    {
     "name": "stdout",
     "output_type": "stream",
     "text": [
      "I slept for 0.45 seconds\n",
      "I slept for 0.63 seconds\n",
      "I slept for 0.86 seconds\n"
     ]
    }
   ],
   "source": [
    "#1  This code works in PyCharm in this notebook - not \n",
    "import multiprocessing\n",
    "import random\n",
    "import time\n",
    "\n",
    "\n",
    "def print_time():\n",
    "    value = random.randint(0, 100) / 100\n",
    "    time.sleep(value)\n",
    "    print(\"I slept for \", value, \" seconds\")\n",
    "\n",
    "\n",
    "if __name__ == '__main__':\n",
    "    for n in range(3):\n",
    "        proc = multiprocessing.Process(target=print_time)\n",
    "        proc.start()\n",
    "\n"
   ]
  }
 ],
 "metadata": {
  "kernelspec": {
   "display_name": "Python 3 (ipykernel)",
   "language": "python",
   "name": "python3"
  },
  "language_info": {
   "codemirror_mode": {
    "name": "ipython",
    "version": 3
   },
   "file_extension": ".py",
   "mimetype": "text/x-python",
   "name": "python",
   "nbconvert_exporter": "python",
   "pygments_lexer": "ipython3",
   "version": "3.9.7"
  }
 },
 "nbformat": 4,
 "nbformat_minor": 5
}
