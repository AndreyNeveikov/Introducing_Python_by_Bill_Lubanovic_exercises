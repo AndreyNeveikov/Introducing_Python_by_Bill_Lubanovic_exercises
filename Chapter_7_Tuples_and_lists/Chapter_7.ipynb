{
 "cells": [
  {
   "cell_type": "code",
   "execution_count": 1,
   "id": "12a91ea5",
   "metadata": {},
   "outputs": [],
   "source": [
    "#1\n",
    "years_list = [2002, 2003, 2004, 2005, 2006, 2007]"
   ]
  },
  {
   "cell_type": "code",
   "execution_count": 2,
   "id": "437dde84",
   "metadata": {},
   "outputs": [
    {
     "name": "stdout",
     "output_type": "stream",
     "text": [
      "my third birthday was in  2004\n"
     ]
    }
   ],
   "source": [
    "#2\n",
    "print(\"my third birthday was in \", years_list[2])"
   ]
  },
  {
   "cell_type": "code",
   "execution_count": 3,
   "id": "ccfb8e58",
   "metadata": {},
   "outputs": [
    {
     "name": "stdout",
     "output_type": "stream",
     "text": [
      "I was the oldest in  2007\n"
     ]
    }
   ],
   "source": [
    "#3\n",
    "print(\"I was the oldest in \", max(years_list))"
   ]
  },
  {
   "cell_type": "code",
   "execution_count": 4,
   "id": "8b37250b",
   "metadata": {},
   "outputs": [
    {
     "data": {
      "text/plain": [
       "['mozzarella', 'cinderella', 'salmonella']"
      ]
     },
     "execution_count": 4,
     "metadata": {},
     "output_type": "execute_result"
    }
   ],
   "source": [
    "#4\n",
    "things = ['mozzarella', 'cinderella', 'salmonella']\n",
    "things"
   ]
  },
  {
   "cell_type": "code",
   "execution_count": 9,
   "id": "4b90ef4d",
   "metadata": {},
   "outputs": [
    {
     "name": "stdout",
     "output_type": "stream",
     "text": [
      "Cinderella\n",
      "['MOZZARELLA', 'Cinderella']\n",
      "['MOZZARELLA', 'Cinderella']\n"
     ]
    }
   ],
   "source": [
    "#5\n",
    "print(things[1].capitalize())\n",
    "print(things)\n",
    "\n",
    "things[1] = things[1].capitalize()\n",
    "print(things)"
   ]
  },
  {
   "cell_type": "code",
   "execution_count": 6,
   "id": "fac84e4d",
   "metadata": {},
   "outputs": [
    {
     "name": "stdout",
     "output_type": "stream",
     "text": [
      "['MOZZARELLA', 'Cinderella', 'salmonella']\n"
     ]
    }
   ],
   "source": [
    "#6\n",
    "things[0] = things[0].upper()\n",
    "print(things)"
   ]
  },
  {
   "cell_type": "code",
   "execution_count": 7,
   "id": "b186833b",
   "metadata": {},
   "outputs": [
    {
     "name": "stdout",
     "output_type": "stream",
     "text": [
      "['MOZZARELLA', 'Cinderella']\n"
     ]
    }
   ],
   "source": [
    "#7\n",
    "things.remove('salmonella')\n",
    "print(things)"
   ]
  },
  {
   "cell_type": "code",
   "execution_count": 8,
   "id": "8df53a40",
   "metadata": {},
   "outputs": [
    {
     "name": "stdout",
     "output_type": "stream",
     "text": [
      "['Groucho', 'Chico', 'harpo']\n"
     ]
    }
   ],
   "source": [
    "#8\n",
    "surprise = ['Groucho', 'Chico', 'Harpo']\n",
    "surprise[2] = surprise[2].lower()\n",
    "print(surprise)"
   ]
  },
  {
   "cell_type": "code",
   "execution_count": 10,
   "id": "07471c52",
   "metadata": {},
   "outputs": [
    {
     "name": "stdout",
     "output_type": "stream",
     "text": [
      "opraH\n"
     ]
    }
   ],
   "source": [
    "#9\n",
    "print(surprise[2].capitalize()[::-1])"
   ]
  },
  {
   "cell_type": "code",
   "execution_count": 11,
   "id": "4f277750",
   "metadata": {},
   "outputs": [
    {
     "name": "stdout",
     "output_type": "stream",
     "text": [
      "[0, 2, 4, 6, 8]\n"
     ]
    }
   ],
   "source": [
    "#10\n",
    "even = [number for number in range(10) if number % 2 == 0]\n",
    "print(even)"
   ]
  },
  {
   "cell_type": "code",
   "execution_count": 12,
   "id": "e5c4f53a",
   "metadata": {},
   "outputs": [
    {
     "name": "stdout",
     "output_type": "stream",
     "text": [
      "Fee! Fie! Foe! Flop!\n",
      "Someone better get a mop.\n",
      "Fee! Fie! Foe! Fope!\n",
      "Someone better turn the rope.\n",
      "Fee! Fie! Foe! Fa!\n",
      "Someone better get your ma.\n",
      "Fee! Fie! Foe! Fudge!\n",
      "Someone better call the judge.\n",
      "Fee! Fie! Foe! Fat!\n",
      "Someone better pet the cat.\n",
      "Fee! Fie! Foe! Fog!\n",
      "Someone better walk the dog.\n",
      "Fee! Fie! Foe! Fun!\n",
      "Someone better say we're done.\n"
     ]
    }
   ],
   "source": [
    "#11\n",
    "start1 = ['fee', 'fie', 'foe']\n",
    "rhymes = [\n",
    "    ('flop', 'get a mop'),\n",
    "    ('fope', 'turn the rope'),\n",
    "    ('fa', 'get your ma'),\n",
    "    ('fudge', 'call the judge'),\n",
    "    ('fat', 'pet the cat'),\n",
    "    ('fog', 'walk the dog'),\n",
    "    ('fun', \"say we're done\")\n",
    "]\n",
    "start2 = 'Someone better'\n",
    "\n",
    "start1_caps = ' '.join([word.capitalize() + '!' for word in start1])\n",
    "for first, second in rhymes:\n",
    "    print(f'{start1_caps} {first.capitalize()}!')\n",
    "    print(f'{start2} {second}.')"
   ]
  },
  {
   "cell_type": "code",
   "execution_count": null,
   "id": "f5ffc63e",
   "metadata": {},
   "outputs": [],
   "source": []
  }
 ],
 "metadata": {
  "kernelspec": {
   "display_name": "Python 3 (ipykernel)",
   "language": "python",
   "name": "python3"
  },
  "language_info": {
   "codemirror_mode": {
    "name": "ipython",
    "version": 3
   },
   "file_extension": ".py",
   "mimetype": "text/x-python",
   "name": "python",
   "nbconvert_exporter": "python",
   "pygments_lexer": "ipython3",
   "version": "3.9.7"
  }
 },
 "nbformat": 4,
 "nbformat_minor": 5
}
