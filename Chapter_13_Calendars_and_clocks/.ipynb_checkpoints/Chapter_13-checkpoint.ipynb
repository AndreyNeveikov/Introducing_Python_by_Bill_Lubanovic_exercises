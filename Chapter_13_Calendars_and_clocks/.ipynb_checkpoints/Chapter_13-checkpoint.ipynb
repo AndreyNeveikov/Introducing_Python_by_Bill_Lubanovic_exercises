{
 "cells": [
  {
   "cell_type": "code",
   "execution_count": 46,
   "id": "643c1ea7",
   "metadata": {},
   "outputs": [
    {
     "name": "stdout",
     "output_type": "stream",
     "text": [
      "2022-02-12\n",
      "2022-02-12\n"
     ]
    }
   ],
   "source": [
    "#1\n",
    "import datetime as dt\n",
    "\n",
    "now = dt.date.today()\n",
    "print(now)\n",
    "\n",
    "now_str = now.isoformat()\n",
    "print(now_str)\n",
    "\n",
    "with open('today.txt', 'wt') as output:\n",
    "    print(now_str, file = output)"
   ]
  },
  {
   "cell_type": "code",
   "execution_count": 30,
   "id": "74775050",
   "metadata": {},
   "outputs": [
    {
     "name": "stdout",
     "output_type": "stream",
     "text": [
      "2022-02-12\n",
      "\n"
     ]
    }
   ],
   "source": [
    "#2\n",
    "with open('today.txt', 'rt') as input:\n",
    "    today_string = input.read()\n",
    "    \n",
    "print(today_string)"
   ]
  },
  {
   "cell_type": "code",
   "execution_count": 32,
   "id": "25602a9f",
   "metadata": {},
   "outputs": [
    {
     "name": "stdout",
     "output_type": "stream",
     "text": [
      "2022-02-12 00:00:00\n"
     ]
    }
   ],
   "source": [
    "#3\n",
    "fmt = \"%Y-%m-%d\\n\"\n",
    "\n",
    "print(dt.datetime.strptime(today_string, fmt))"
   ]
  },
  {
   "cell_type": "code",
   "execution_count": 40,
   "id": "dcff45de",
   "metadata": {},
   "outputs": [
    {
     "name": "stdout",
     "output_type": "stream",
     "text": [
      "2002-06-12\n"
     ]
    }
   ],
   "source": [
    "#4\n",
    "class Birthday():\n",
    "    def __init__(self, birthday):\n",
    "        self.birthday = birthday \n",
    "\n",
    "        \n",
    "birthday_date = dt.date(2002, 6, 12)        \n",
    "my_birthday = Birthday(birthday_date)\n",
    "\n",
    "print(my_birthday.birthday)"
   ]
  },
  {
   "cell_type": "code",
   "execution_count": 41,
   "id": "d714b7ff",
   "metadata": {},
   "outputs": [
    {
     "name": "stdout",
     "output_type": "stream",
     "text": [
      "I was born at 3 rd day of the week Wednesday\n"
     ]
    }
   ],
   "source": [
    "#5\n",
    "print(\"I was born at\", my_birthday.birthday.isoweekday(), \"rd day of the week Wednesday\")"
   ]
  },
  {
   "cell_type": "code",
   "execution_count": 44,
   "id": "08fe0692",
   "metadata": {},
   "outputs": [
    {
     "name": "stdout",
     "output_type": "stream",
     "text": [
      "2029-10-28\n"
     ]
    }
   ],
   "source": [
    "#6\n",
    "i_will_be_10000_days_old = birthday_date + dt.timedelta(days=10000)\n",
    "print(i_will_be_10000_days_old)"
   ]
  }
 ],
 "metadata": {
  "kernelspec": {
   "display_name": "Python 3 (ipykernel)",
   "language": "python",
   "name": "python3"
  },
  "language_info": {
   "codemirror_mode": {
    "name": "ipython",
    "version": 3
   },
   "file_extension": ".py",
   "mimetype": "text/x-python",
   "name": "python",
   "nbconvert_exporter": "python",
   "pygments_lexer": "ipython3",
   "version": "3.9.7"
  }
 },
 "nbformat": 4,
 "nbformat_minor": 5
}
