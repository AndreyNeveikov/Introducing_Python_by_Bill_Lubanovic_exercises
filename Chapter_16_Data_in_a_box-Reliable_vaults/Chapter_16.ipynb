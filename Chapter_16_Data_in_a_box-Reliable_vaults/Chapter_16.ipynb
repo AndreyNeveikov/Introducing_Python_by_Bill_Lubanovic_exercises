{
 "cells": [
  {
   "cell_type": "code",
   "execution_count": 1,
   "id": "18b25c72",
   "metadata": {},
   "outputs": [],
   "source": [
    "#1\n",
    "import csv\n",
    "\n",
    "\n",
    "author_book = [\n",
    "    {'author': 'J R R Tolkien', 'book': 'The Hobbit'},\n",
    "    {'author': 'Lynne Truss', 'book': '\"Eats, Shoots & Leaves\"'}\n",
    "]\n",
    "\n",
    "with open('books', 'wt') as fout:\n",
    "    cout = csv.DictWriter(fout, ['author', 'book'])\n",
    "    cout.writeheader()\n",
    "    cout.writerows(author_book)"
   ]
  },
  {
   "cell_type": "code",
   "execution_count": 2,
   "id": "d1a141c5",
   "metadata": {},
   "outputs": [
    {
     "name": "stdout",
     "output_type": "stream",
     "text": [
      "[{'author': 'J R R Tolkien', 'book': 'The Hobbit'}, {'author': 'Lynne Truss', 'book': '\"Eats, Shoots & Leaves\"'}]\n"
     ]
    }
   ],
   "source": [
    "#2\n",
    "with open('books', 'rt') as fin:\n",
    "    cin = csv.DictReader(fin)\n",
    "    books = [row for row in cin]\n",
    "\n",
    "print(books)"
   ]
  },
  {
   "cell_type": "code",
   "execution_count": 3,
   "id": "146e0ad7",
   "metadata": {},
   "outputs": [],
   "source": [
    "#3\n",
    "titles =[\n",
    "    {'title': 'The Weirdstone of Brisingamen', 'author': 'Alan Garner', 'year': '1960'},\n",
    "    {'title': 'Perdido Street Station', 'author': 'China Mieville', 'year': '2000'},\n",
    "    {'title': 'Thud!', 'author': 'Terry Pratchett', 'year': '2005'},\n",
    "    {'title': 'The Spellmam', 'author': 'LisaLutz', 'year': '2007'},\n",
    "    {'title': 'Small Gods', 'author': 'Terry Pratchett', 'year': '1992'},\n",
    "]\n",
    "\n",
    "with open('titles.csv', 'wt') as fout:\n",
    "    cout = csv.DictWriter(fout, ['title', 'author', 'year'])\n",
    "    cout.writeheader()\n",
    "    cout.writerows(titles)"
   ]
  },
  {
   "cell_type": "code",
   "execution_count": null,
   "id": "60c5d291",
   "metadata": {},
   "outputs": [],
   "source": [
    "#4\n",
    "import sqlite3\n",
    "\n",
    "conn = sqlite3.connect('books.db')\n",
    "curs = conn.cursor()\n",
    "curs.execute('''CREATE TABLE books\n",
    "(title VARCHAR(50) PRIMARY KEY,\n",
    "author VARCHAR(50),\n",
    "year INT)''')"
   ]
  },
  {
   "cell_type": "code",
   "execution_count": null,
   "id": "9dd286bf",
   "metadata": {},
   "outputs": [],
   "source": [
    "#5\n",
    "ins_str = 'INSERT INTO books VALUES(?, ?, ?)'\n",
    "with open('titles.csv', 'rt') as infile:\n",
    "    titles = csv.DictReader(infile)\n",
    "    for title in titles:\n",
    "        curs.execute(ins_str, (title['title'], title['author'], title['year']))\n",
    "\n",
    "conn.commit()"
   ]
  },
  {
   "cell_type": "code",
   "execution_count": 6,
   "id": "1879f313",
   "metadata": {
    "scrolled": true
   },
   "outputs": [
    {
     "name": "stdout",
     "output_type": "stream",
     "text": [
      "[('Perdido Street Station', 'China Mieville', 2000), ('Small Gods', 'Terry Pratchett', 1992), ('The Spellmam', 'LisaLutz', 2007), ('The Weirdstone of Brisingamen', 'Alan Garner', 1960), ('Thud!', 'Terry Pratchett', 2005)]\n"
     ]
    }
   ],
   "source": [
    "#6\n",
    "curs.execute('SELECT * FROM books ORDER BY title')\n",
    "rows = curs.fetchall()\n",
    "print(rows)"
   ]
  },
  {
   "cell_type": "code",
   "execution_count": null,
   "id": "09b4c4a5",
   "metadata": {},
   "outputs": [],
   "source": [
    "#7\n",
    "curs.execute('SELECT * FROM books ORDER BY year')\n",
    "rows_published = curs.fetchall()\n",
    "print(rows_published)\n"
   ]
  },
  {
   "cell_type": "code",
   "execution_count": 6,
   "id": "cb5b8fcb",
   "metadata": {},
   "outputs": [
    {
     "name": "stdout",
     "output_type": "stream",
     "text": [
      "('Perdido Street Station',)\n",
      "('Small Gods',)\n",
      "('The Spellmam',)\n",
      "('The Weirdstone of Brisingamen',)\n",
      "('Thud!',)\n"
     ]
    }
   ],
   "source": [
    "#8\n",
    "import sqlalchemy as sa\n",
    "\n",
    "connect = sa.create_engine('sqlite:///books.db')\n",
    "rows_sa = connect.execute('SELECT title FROM books ORDER BY title ASC') \n",
    "for row in rows_sa:\n",
    "    print(row)"
   ]
  },
  {
   "cell_type": "code",
   "execution_count": null,
   "id": "17f0d1fa",
   "metadata": {},
   "outputs": [],
   "source": [
    "#9\n",
    "import redis\n",
    "conn_redis = redis.Redis()\n",
    "conn_redis.delete('test')\n",
    "\n",
    "conn_redis.hmset('test', {'count': 1, 'name': 'Fester Bestertester'})\n",
    "print(conn_redis.hgetall('test'))"
   ]
  },
  {
   "cell_type": "code",
   "execution_count": null,
   "id": "731c98e6",
   "metadata": {},
   "outputs": [],
   "source": [
    "#10\n",
    "conn_redis.hincrby('test', 'count', 3)\n",
    "print(conn_redis.hget('test', 'count'))"
   ]
  }
 ],
 "metadata": {
  "kernelspec": {
   "display_name": "Python 3 (ipykernel)",
   "language": "python",
   "name": "python3"
  },
  "language_info": {
   "codemirror_mode": {
    "name": "ipython",
    "version": 3
   },
   "file_extension": ".py",
   "mimetype": "text/x-python",
   "name": "python",
   "nbconvert_exporter": "python",
   "pygments_lexer": "ipython3",
   "version": "3.9.7"
  }
 },
 "nbformat": 4,
 "nbformat_minor": 5
}
