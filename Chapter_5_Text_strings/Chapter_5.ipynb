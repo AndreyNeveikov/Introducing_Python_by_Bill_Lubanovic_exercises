{
 "cells": [
  {
   "cell_type": "code",
   "execution_count": 1,
   "id": "9a0891e1",
   "metadata": {},
   "outputs": [
    {
     "name": "stdout",
     "output_type": "stream",
     "text": [
      "When an eel grab your arm,\n",
      "And it causes great harm,\n",
      "That's - a Moray!\n"
     ]
    }
   ],
   "source": [
    "#1\n",
    "song = \"\"\"When an eel grab your arm,\n",
    "And it causes great harm,\n",
    "That's - a moray!\"\"\"\n",
    "print(song.replace(' m', ' M'))"
   ]
  },
  {
   "cell_type": "code",
   "execution_count": 2,
   "id": "9a1d0ed0",
   "metadata": {},
   "outputs": [
    {
     "name": "stdout",
     "output_type": "stream",
     "text": [
      "\n",
      "Q: We don't serve string around here. Are you a string? \n",
      "A: No, I'm a frayed knot.\n",
      "\n",
      "Q: What is said on Father's Day in the forest? \n",
      "A: 'Pop!' goes the weasel.\n",
      "\n",
      "Q: What makes the sound 'Sis! Boom! Bah!'? \n",
      "A: An exploding sheep.\n"
     ]
    }
   ],
   "source": [
    "#2\n",
    "questions = [\n",
    "    \"We don't serve string around here. Are you a string?\",\n",
    "    \"What is said on Father's Day in the forest?\",\n",
    "    \"What makes the sound 'Sis! Boom! Bah!'?\"\n",
    "]\n",
    "answers = [\n",
    "    \"An exploding sheep.\",\n",
    "    \"No, I'm a frayed knot.\",\n",
    "    \"'Pop!' goes the weasel.\"\n",
    "]\n",
    "print(f'\\nQ: {questions[0]} \\nA: {answers[1]}')\n",
    "print(f'\\nQ: {questions[1]} \\nA: {answers[2]}')\n",
    "print(f'\\nQ: {questions[2]} \\nA: {answers[0]}')"
   ]
  },
  {
   "cell_type": "code",
   "execution_count": 3,
   "id": "92ff23ad",
   "metadata": {},
   "outputs": [
    {
     "name": "stdout",
     "output_type": "stream",
     "text": [
      "\n",
      "My kitty cat likes roast beef,\n",
      "My kitty cat likes ham,\n",
      "My kitty cat fell on his head,\n",
      "And now thinks he's a clam.\n",
      "\n"
     ]
    }
   ],
   "source": [
    "#3\n",
    "print(\"\"\"\n",
    "My kitty cat likes %s,\n",
    "My kitty cat likes %s,\n",
    "My kitty cat fell on his %s,\n",
    "And now thinks he's a %s.\n",
    "\"\"\" % ('roast beef', 'ham', 'head', 'clam'))"
   ]
  },
  {
   "cell_type": "code",
   "execution_count": 4,
   "id": "2980e144",
   "metadata": {},
   "outputs": [],
   "source": [
    "#4\n",
    "letter = (\"\"\"\n",
    "Dear {salutation} {name}\n",
    "\n",
    "Thank you for your letter. We are sorry that our {product}\n",
    "{verbed} in your {room}. Please note that it should never\n",
    "be used in a {room}, especially near any {animals}.\n",
    "\n",
    "Send us your receipt and {amount} for shipping and handling.\n",
    "We will send you another {product} that, in our tests,\n",
    "is {percent}% less likely to have {verbed}.\n",
    "\n",
    "Thank you for your support.\n",
    "Sincerely,\n",
    "{spokesman}\n",
    "{job_title}\n",
    "\"\"\")"
   ]
  },
  {
   "cell_type": "code",
   "execution_count": 5,
   "id": "e9198e37",
   "metadata": {},
   "outputs": [
    {
     "name": "stdout",
     "output_type": "stream",
     "text": [
      "\n",
      "Dear Professor Bill\n",
      "\n",
      "Thank you for your letter. We are sorry that our TV\n",
      "exploded in your bathroom. Please note that it should never\n",
      "be used in a bathroom, especially near any seals.\n",
      "\n",
      "Send us your receipt and 5.99$ for shipping and handling.\n",
      "We will send you another TV that, in our tests,\n",
      "is 50% less likely to have exploded.\n",
      "\n",
      "Thank you for your support.\n",
      "Sincerely,\n",
      "Tom Smith\n",
      "Executive Director\n",
      "\n"
     ]
    }
   ],
   "source": [
    "#5\n",
    "print(letter.format(\n",
    "    salutation='Professor',\n",
    "    name='Bill',\n",
    "    product='TV',\n",
    "    verbed='exploded',\n",
    "    room='bathroom',\n",
    "    animals='seals',\n",
    "    amount='5.99$',\n",
    "    percent='50',\n",
    "    spokesman='Tom Smith',\n",
    "    job_title='Executive Director'\n",
    "))"
   ]
  },
  {
   "cell_type": "code",
   "execution_count": 6,
   "id": "e958f3e4",
   "metadata": {},
   "outputs": [
    {
     "name": "stdout",
     "output_type": "stream",
     "text": [
      "Ducky McDuckface\n",
      "Pumpkiny McPumpkinface\n",
      "Spitzy McSpitzface\n",
      "\n"
     ]
    }
   ],
   "source": [
    "#6\n",
    "objects = ['duck', 'pumpkin', 'spitz']\n",
    "for object in objects:\n",
    "    print(\"%sy Mc%sface\" % (object.title(), object.title()))\n",
    "print('')"
   ]
  },
  {
   "cell_type": "code",
   "execution_count": 7,
   "id": "1f40fd34",
   "metadata": {},
   "outputs": [
    {
     "name": "stdout",
     "output_type": "stream",
     "text": [
      "Ducky McDuckface\n",
      "Pumpkiny McPumpkinface\n",
      "Spitzy McSpitzface\n",
      "\n"
     ]
    }
   ],
   "source": [
    "#7\n",
    "for object in objects:\n",
    "    print(\"{}y Mc{}face\".format(object.title(), object.title()))\n",
    "print('')"
   ]
  },
  {
   "cell_type": "code",
   "execution_count": 8,
   "id": "dce6ad37",
   "metadata": {},
   "outputs": [
    {
     "name": "stdout",
     "output_type": "stream",
     "text": [
      "Ducky McDuckface\n",
      "Pumpkiny McPumpkinface\n",
      "Spitzy McSpitzface\n"
     ]
    }
   ],
   "source": [
    "#8\n",
    "for object in objects:\n",
    "    print(f\"{object.title()}y Mc{object.title()}face\")"
   ]
  },
  {
   "cell_type": "code",
   "execution_count": null,
   "id": "a0eeff5f",
   "metadata": {},
   "outputs": [],
   "source": []
  }
 ],
 "metadata": {
  "kernelspec": {
   "display_name": "Python 3 (ipykernel)",
   "language": "python",
   "name": "python3"
  },
  "language_info": {
   "codemirror_mode": {
    "name": "ipython",
    "version": 3
   },
   "file_extension": ".py",
   "mimetype": "text/x-python",
   "name": "python",
   "nbconvert_exporter": "python",
   "pygments_lexer": "ipython3",
   "version": "3.9.7"
  }
 },
 "nbformat": 4,
 "nbformat_minor": 5
}
