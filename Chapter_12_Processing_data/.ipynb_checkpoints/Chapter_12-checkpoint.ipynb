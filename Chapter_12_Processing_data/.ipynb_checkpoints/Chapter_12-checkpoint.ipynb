{
 "cells": [
  {
   "cell_type": "code",
   "execution_count": 3,
   "id": "49c9d5e3",
   "metadata": {},
   "outputs": [
    {
     "name": "stdout",
     "output_type": "stream",
     "text": [
      "💩\n",
      "value = 💩 name = PILE OF POO\n"
     ]
    }
   ],
   "source": [
    "#1\n",
    "def unicode_data(value):\n",
    "    import unicodedata\n",
    "    name = unicodedata.name(value)\n",
    "    print(f'value = {value} name = {name}')\n",
    "\n",
    "mystery = ('\\U0001f4a9')\n",
    "print(mystery)\n",
    "unicode_data(mystery)"
   ]
  },
  {
   "cell_type": "code",
   "execution_count": 4,
   "id": "a644f9aa",
   "metadata": {},
   "outputs": [
    {
     "name": "stdout",
     "output_type": "stream",
     "text": [
      "b'\\xf0\\x9f\\x92\\xa9'\n"
     ]
    }
   ],
   "source": [
    "#2\n",
    "pop_bytes = mystery.encode('utf-8')\n",
    "print(pop_bytes)"
   ]
  },
  {
   "cell_type": "code",
   "execution_count": 7,
   "id": "1460b105",
   "metadata": {},
   "outputs": [
    {
     "name": "stdout",
     "output_type": "stream",
     "text": [
      "💩\n",
      "True\n"
     ]
    }
   ],
   "source": [
    "#3\n",
    "pop_string = pop_bytes.decode()\n",
    "print(pop_string)\n",
    "print(pop_string == mystery)"
   ]
  },
  {
   "cell_type": "code",
   "execution_count": 8,
   "id": "e8bb4f9b",
   "metadata": {},
   "outputs": [],
   "source": [
    "#4\n",
    "mammoth = \"\"\"\n",
    "We have seen the Queen of cheese,\n",
    "Laying quietly at your ease,\n",
    "Gently fanned by evening breeze --\n",
    "Thy fair form no flies dare seize.\n",
    "\n",
    "All gaily dressed soon you'll go\n",
    "To the great Provincial Show,\n",
    "To be admired by many a beau\n",
    "In the city of Toronto.\n",
    "\n",
    "Cows numerous as a swarm of bees --\n",
    "Or as the leaves upon the trees --\n",
    "It did require to make thee please,\n",
    "And stand unrivalled Queen of Cheese.\n",
    "\n",
    "May you not receive a scar as\n",
    "We have heard that Mr. Harris\n",
    "Intends to send you off as far as\n",
    "The great World's show at Paris.\n",
    "\n",
    "Of the youth -- beware of these --\n",
    "For some of them might rudely squeeze\n",
    "And bite your cheek; then songs or glees\n",
    "We could not sing o' Queen of Cheese.\n",
    "\n",
    "We'rt thou suspended from baloon,\n",
    "You'd cast a shade, even at noon;\n",
    "Folks would think it was the moon\n",
    "About to fall and crush them soon.\n",
    "\"\"\""
   ]
  },
  {
   "cell_type": "code",
   "execution_count": 22,
   "id": "e1e17384",
   "metadata": {},
   "outputs": [
    {
     "name": "stdout",
     "output_type": "stream",
     "text": [
      "['cheese', 'city', 'cheek', 'could', 'cast', 'crush']\n"
     ]
    }
   ],
   "source": [
    "#5\n",
    "import re\n",
    "\n",
    "found_all_with_start_c = re.findall(r'\\bc\\w*', mammoth)\n",
    "print(found_all_with_start_c)"
   ]
  },
  {
   "cell_type": "code",
   "execution_count": 24,
   "id": "4614e2e7",
   "metadata": {},
   "outputs": [
    {
     "name": "stdout",
     "output_type": "stream",
     "text": [
      "['city', 'cast']\n"
     ]
    }
   ],
   "source": [
    "#6\n",
    "found_words_of_4_with_start_c = re.findall(r'\\bc\\w{3}\\b', mammoth)\n",
    "print(found_words_of_4_with_start_c)"
   ]
  },
  {
   "cell_type": "code",
   "execution_count": 32,
   "id": "87696d5f",
   "metadata": {},
   "outputs": [
    {
     "name": "stdout",
     "output_type": "stream",
     "text": [
      "['your', 'fair', 'Or', 'scar', 'Mr', 'far', 'For', 'your', 'or']\n"
     ]
    }
   ],
   "source": [
    "#7\n",
    "found_words_with_end_r = re.findall(r'\\b[\\w\\']*r\\b', mammoth)\n",
    "print(found_words_with_end_r)"
   ]
  },
  {
   "cell_type": "code",
   "execution_count": 36,
   "id": "8460e4e3",
   "metadata": {},
   "outputs": [
    {
     "name": "stdout",
     "output_type": "stream",
     "text": [
      "['Queen', 'quietly', 'beau', 'Queen', 'squeeze', 'Queen']\n"
     ]
    }
   ],
   "source": [
    "#8\n",
    "found_3_consecutive_vowels = re.findall(r'\\b\\w*[aeiou]{3}[^aeiou\\s]*\\w*\\b', mammoth)\n",
    "print(found_3_consecutive_vowels)"
   ]
  },
  {
   "cell_type": "code",
   "execution_count": 42,
   "id": "c91eb1c2",
   "metadata": {},
   "outputs": [
    {
     "name": "stdout",
     "output_type": "stream",
     "text": [
      "b'GIF89a\\x01\\x00\\x01\\x00\\x80\\x00\\x00\\x00\\x00\\x00\\xff\\xff\\xff!\\xf9\\x04\\x01\\x00\\x00\\x00\\x00,\\x00\\x00\\x00\\x00\\x01\\x00\\x01\\x00\\x00\\x02\\x01D\\x00;'\n"
     ]
    }
   ],
   "source": [
    "#9\n",
    "import binascii\n",
    "\n",
    "row = '47494638396101000100800000000000ffffff21f9' + \\\n",
    "    '0401000000002c000000000100010000020144003b'\n",
    "gif = binascii.unhexlify(row)\n",
    "print(gif)"
   ]
  },
  {
   "cell_type": "code",
   "execution_count": 43,
   "id": "214233dd",
   "metadata": {},
   "outputs": [
    {
     "name": "stdout",
     "output_type": "stream",
     "text": [
      "True\n"
     ]
    }
   ],
   "source": [
    "#10\n",
    "\n",
    "print(gif[:6] == b'GIF89a')"
   ]
  },
  {
   "cell_type": "code",
   "execution_count": 45,
   "id": "78595741",
   "metadata": {},
   "outputs": [
    {
     "name": "stdout",
     "output_type": "stream",
     "text": [
      "1 1\n"
     ]
    }
   ],
   "source": [
    "#11\n",
    "import struct\n",
    "\n",
    "width, height = struct.unpack('<HH', gif[6:10])\n",
    "print(width, height)"
   ]
  }
 ],
 "metadata": {
  "kernelspec": {
   "display_name": "Python 3 (ipykernel)",
   "language": "python",
   "name": "python3"
  },
  "language_info": {
   "codemirror_mode": {
    "name": "ipython",
    "version": 3
   },
   "file_extension": ".py",
   "mimetype": "text/x-python",
   "name": "python",
   "nbconvert_exporter": "python",
   "pygments_lexer": "ipython3",
   "version": "3.9.7"
  }
 },
 "nbformat": 4,
 "nbformat_minor": 5
}
