{
 "cells": [
  {
   "cell_type": "code",
   "execution_count": 14,
   "id": "248840cf",
   "metadata": {},
   "outputs": [
    {
     "name": "stdout",
     "output_type": "stream",
     "text": [
      "{'dog': 'chien', 'cat': 'chat', 'walrus': 'morse'}\n"
     ]
    }
   ],
   "source": [
    "#1\n",
    "e2f = {\n",
    "    'dog': 'chien',\n",
    "    'cat': 'chat',\n",
    "    'walrus': 'morse'\n",
    "}\n",
    "\n",
    "print(e2f)"
   ]
  },
  {
   "cell_type": "code",
   "execution_count": 15,
   "id": "8df83be8",
   "metadata": {},
   "outputs": [
    {
     "data": {
      "text/plain": [
       "'morse'"
      ]
     },
     "execution_count": 15,
     "metadata": {},
     "output_type": "execute_result"
    }
   ],
   "source": [
    "#2\n",
    "e2f.get('walrus')"
   ]
  },
  {
   "cell_type": "code",
   "execution_count": 17,
   "id": "850ea569",
   "metadata": {},
   "outputs": [
    {
     "name": "stdout",
     "output_type": "stream",
     "text": [
      "{'chien': 'dog', 'chat': 'cat', 'morse': 'walrus'}\n"
     ]
    }
   ],
   "source": [
    "#3\n",
    "f2e = {}\n",
    "for english, french in e2f.items():\n",
    "    f2e[french] = english\n",
    "print(f2e)"
   ]
  },
  {
   "cell_type": "code",
   "execution_count": 18,
   "id": "a865e4f1",
   "metadata": {},
   "outputs": [
    {
     "data": {
      "text/plain": [
       "'dog'"
      ]
     },
     "execution_count": 18,
     "metadata": {},
     "output_type": "execute_result"
    }
   ],
   "source": [
    "#4\n",
    "f2e.get('chien')"
   ]
  },
  {
   "cell_type": "code",
   "execution_count": 20,
   "id": "9dcccbf7",
   "metadata": {},
   "outputs": [
    {
     "name": "stdout",
     "output_type": "stream",
     "text": [
      "dict_keys(['dog', 'cat', 'walrus'])\n"
     ]
    }
   ],
   "source": [
    "#5\n",
    "print(e2f.keys())"
   ]
  },
  {
   "cell_type": "code",
   "execution_count": 22,
   "id": "49edc176",
   "metadata": {},
   "outputs": [
    {
     "name": "stdout",
     "output_type": "stream",
     "text": [
      "{'animals': {'cats': ['Henry', 'Grumpy', 'Lucy'], 'emus': {}, 'octopi': {}},\n",
      " 'other': {},\n",
      " 'plants': {}}\n"
     ]
    }
   ],
   "source": [
    "from pprint import pprint\n",
    "#6\n",
    "life = {\n",
    "    'animals': {'cats': ['Henry', 'Grumpy', 'Lucy'],\n",
    "                'octopi': {},\n",
    "                'emus': {}\n",
    "               },\n",
    "    'plants': {},\n",
    "    'other': {}\n",
    "}\n",
    "pprint(life)"
   ]
  },
  {
   "cell_type": "code",
   "execution_count": 23,
   "id": "35b22ad8",
   "metadata": {},
   "outputs": [
    {
     "name": "stdout",
     "output_type": "stream",
     "text": [
      "dict_keys(['animals', 'plants', 'other'])\n"
     ]
    }
   ],
   "source": [
    "#7\n",
    "print(life.keys())"
   ]
  },
  {
   "cell_type": "code",
   "execution_count": 24,
   "id": "b251f635",
   "metadata": {},
   "outputs": [
    {
     "name": "stdout",
     "output_type": "stream",
     "text": [
      "dict_keys(['cats', 'octopi', 'emus'])\n"
     ]
    }
   ],
   "source": [
    "#8\n",
    "print(life['animals'].keys())"
   ]
  },
  {
   "cell_type": "code",
   "execution_count": 26,
   "id": "82a49ce9",
   "metadata": {},
   "outputs": [
    {
     "name": "stdout",
     "output_type": "stream",
     "text": [
      "['Henry', 'Grumpy', 'Lucy']\n"
     ]
    }
   ],
   "source": [
    "#9\n",
    "print(life['animals']['cats'])"
   ]
  },
  {
   "cell_type": "code",
   "execution_count": 29,
   "id": "7aa5b618",
   "metadata": {},
   "outputs": [
    {
     "name": "stdout",
     "output_type": "stream",
     "text": [
      "{0: 0, 1: 1, 2: 4, 3: 9, 4: 16, 5: 25, 6: 36, 7: 49, 8: 64, 9: 81}\n"
     ]
    }
   ],
   "source": [
    "#10\n",
    "squares = {}\n",
    "for number in range(10):\n",
    "    squares[number] = number * number\n",
    "print(squares)"
   ]
  },
  {
   "cell_type": "code",
   "execution_count": 38,
   "id": "c69b148f",
   "metadata": {},
   "outputs": [
    {
     "name": "stdout",
     "output_type": "stream",
     "text": [
      "{0, 2, 4, 6, 8}\n"
     ]
    }
   ],
   "source": [
    "#11\n",
    "odd = {number for number in range(10) if number % 2 == 0}\n",
    "    \n",
    "print(odd)"
   ]
  },
  {
   "cell_type": "code",
   "execution_count": 40,
   "id": "3b6568e9",
   "metadata": {
    "scrolled": true
   },
   "outputs": [
    {
     "name": "stdout",
     "output_type": "stream",
     "text": [
      "Got 0\n",
      "Got 1\n",
      "Got 2\n",
      "Got 3\n",
      "Got 4\n",
      "Got 5\n",
      "Got 6\n",
      "Got 7\n",
      "Got 8\n",
      "Got 9\n"
     ]
    }
   ],
   "source": [
    "#12\n",
    "for thing in (f'Got %s' % number for number in range(10)):\n",
    "    print(thing)"
   ]
  },
  {
   "cell_type": "code",
   "execution_count": 47,
   "id": "7466385b",
   "metadata": {},
   "outputs": [
    {
     "name": "stdout",
     "output_type": "stream",
     "text": [
      "{'optimist': 'The glass is half full', 'pessimist': 'The glass is half empty', 'troll': 'How did you get a glass'}\n"
     ]
    }
   ],
   "source": [
    "#13\n",
    "keys = ('optimist', 'pessimist', 'troll')\n",
    "values = ('The glass is half full', 'The glass is half empty', 'How did you get a glass')\n",
    "\n",
    "person_type = dict(zip(keys, values))\n",
    "print(person_type)"
   ]
  },
  {
   "cell_type": "code",
   "execution_count": 48,
   "id": "46b3e675",
   "metadata": {},
   "outputs": [
    {
     "name": "stdout",
     "output_type": "stream",
     "text": [
      "{'Creature of Habit': 'A nun turns into a monster', 'Crewel Fate': 'A haunted year shop', 'Sharks On a Plane': 'Check your exits'}\n"
     ]
    }
   ],
   "source": [
    "#14\n",
    "titles = ['Creature of Habit', 'Crewel Fate', 'Sharks On a Plane']\n",
    "plots = ['A nun turns into a monster', 'A haunted year shop', 'Check your exits']\n",
    "\n",
    "movies = dict(zip(titles, plots))\n",
    "print(movies)"
   ]
  },
  {
   "cell_type": "code",
   "execution_count": null,
   "id": "017d5dda",
   "metadata": {},
   "outputs": [],
   "source": []
  }
 ],
 "metadata": {
  "kernelspec": {
   "display_name": "Python 3 (ipykernel)",
   "language": "python",
   "name": "python3"
  },
  "language_info": {
   "codemirror_mode": {
    "name": "ipython",
    "version": 3
   },
   "file_extension": ".py",
   "mimetype": "text/x-python",
   "name": "python",
   "nbconvert_exporter": "python",
   "pygments_lexer": "ipython3",
   "version": "3.9.7"
  }
 },
 "nbformat": 4,
 "nbformat_minor": 5
}
